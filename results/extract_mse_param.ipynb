{
 "cells": [
  {
   "cell_type": "code",
   "execution_count": 54,
   "metadata": {
    "collapsed": true
   },
   "outputs": [],
   "source": [
    "import pandas as pd\n",
    "import numpy as np\n"
   ]
  },
  {
   "cell_type": "code",
   "execution_count": 55,
   "outputs": [],
   "source": [
    "root_path = \"gyeonggi_vanila_model_2/\"\n",
    "log_file_name = \"gyeonggi_training.log\"\n",
    "file_name = \"gyeonggi_evaluation_result.txt\"\n",
    "\n",
    "# root_path = \"gyeonggi_vanila_model_2/\"\n",
    "# log_file_name = \"gyeonggi_training.log\"\n",
    "# file_name = \"gyeonggi_evaluation_result.txt\"\n",
    "#\n",
    "# root_path = \"cnu_vanilla_model_2/\"\n",
    "# log_file_name = \"cnu_training.log\"\n",
    "# file_name = \"cnu_evaluation_result.txt\""
   ],
   "metadata": {
    "collapsed": false
   }
  },
  {
   "cell_type": "code",
   "execution_count": 56,
   "outputs": [],
   "source": [
    "path = f\"{root_path}/{file_name}\"\n",
    "f = np.loadtxt(path, dtype=str)\n",
    "data = []\n",
    "for line in f:\n",
    "    data.append((line[1], line[2]))"
   ],
   "metadata": {
    "collapsed": false
   }
  },
  {
   "cell_type": "code",
   "execution_count": 57,
   "outputs": [],
   "source": [
    "keywords = \"Total params\"\n",
    "\n",
    "\n",
    "def export_keywords_value_from_txt(pth):\n",
    "    with open(pth, 'r') as f:\n",
    "        lines = f.readlines()\n",
    "\n",
    "    find_params_line = lambda x: keywords in lines[x]\n",
    "    params_line_indexes = list(filter(find_params_line, range(len(lines))))\n",
    "    params_value = []\n",
    "    for j in data:\n",
    "        params_value.append(j[0]) # MSE\n",
    "        params_value.append(j[1]) # MAE\n",
    "        # params_value.append(i)\n",
    "\n",
    "        # params_value.append(float(lines[i].split(' ')[-1].replace('\\n', \"\").replace(\",\", \"\")))\n",
    "    return params_value\n",
    "\n"
   ],
   "metadata": {
    "collapsed": false
   }
  },
  {
   "cell_type": "code",
   "execution_count": 58,
   "outputs": [],
   "source": [
    "filename = f\"{root_path}/{log_file_name}\"\n",
    "params_value = export_keywords_value_from_txt(filename)"
   ],
   "metadata": {
    "collapsed": false
   }
  },
  {
   "cell_type": "code",
   "execution_count": 59,
   "outputs": [],
   "source": [
    "df = pd.DataFrame(params_value)\n",
    "df.transpose().to_csv(\"params.csv\")"
   ],
   "metadata": {
    "collapsed": false
   }
  },
  {
   "cell_type": "code",
   "execution_count": 59,
   "outputs": [],
   "source": [],
   "metadata": {
    "collapsed": false
   }
  }
 ],
 "metadata": {
  "kernelspec": {
   "display_name": "Python 3",
   "language": "python",
   "name": "python3"
  },
  "language_info": {
   "codemirror_mode": {
    "name": "ipython",
    "version": 2
   },
   "file_extension": ".py",
   "mimetype": "text/x-python",
   "name": "python",
   "nbconvert_exporter": "python",
   "pygments_lexer": "ipython2",
   "version": "2.7.6"
  }
 },
 "nbformat": 4,
 "nbformat_minor": 0
}
